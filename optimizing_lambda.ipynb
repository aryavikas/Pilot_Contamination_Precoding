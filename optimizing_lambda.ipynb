{
 "cells": [
  {
   "cell_type": "code",
   "execution_count": 1,
   "metadata": {
    "collapsed": true
   },
   "outputs": [],
   "source": [
    "import os\n",
    "import numpy as np\n",
    "import csv\n",
    "import cvxopt\n",
    "from numpy.linalg import inv"
   ]
  },
  {
   "cell_type": "code",
   "execution_count": 2,
   "metadata": {
    "collapsed": false
   },
   "outputs": [],
   "source": [
    "U=3\n",
    "N=3"
   ]
  },
  {
   "cell_type": "code",
   "execution_count": 3,
   "metadata": {
    "collapsed": false
   },
   "outputs": [],
   "source": [
    "with open('data_pilot_contamination.csv') as csv_file:\n",
    "    csv_reader = csv.reader(csv_file)\n",
    "    data = list(csv_reader)"
   ]
  },
  {
   "cell_type": "code",
   "execution_count": 4,
   "metadata": {
    "collapsed": true
   },
   "outputs": [],
   "source": [
    "data=np.array(data)"
   ]
  },
  {
   "cell_type": "code",
   "execution_count": 5,
   "metadata": {
    "collapsed": true
   },
   "outputs": [],
   "source": [
    "data=np.delete(data,-1,1)   # delete last column of data"
   ]
  },
  {
   "cell_type": "code",
   "execution_count": 6,
   "metadata": {
    "collapsed": false
   },
   "outputs": [
    {
     "data": {
      "text/plain": [
       "array([['0.354688+2.82253e-08i', '1.39008-1.19565i', '-0.515333+2.26203i'],\n",
       "       ['1.39008+1.19565i', '9.47851-1.88798e-08i', '-9.64496+7.12809i'],\n",
       "       ['-0.515333-2.26203i', '-9.64496-7.12809i', '15.1749-1.22368e-08i'],\n",
       "       ['2.83042-2.63932e-10i', '-4.0405+1.07721i', '6.04181-6.25605i'],\n",
       "       ['-4.0405-1.07721i', '6.1779+5.47623e-09i', '-11.0058+6.63127i'],\n",
       "       ['6.04181+6.25605i', '-11.0058-6.63127i', '26.7246+5.79387e-09i'],\n",
       "       ['11.8811-4.75101e-10i', '0.249695-15.5678i', '-24.3848+5.39302i'],\n",
       "       ['0.249695+15.5678i', '20.4038+1.0657e-08i', '-7.57897-31.8382i'],\n",
       "       ['-24.3848-5.39302i', '-7.57897+31.8382i', '52.4957+6.05619e-09i']], \n",
       "      dtype='<U21')"
      ]
     },
     "execution_count": 6,
     "metadata": {},
     "output_type": "execute_result"
    }
   ],
   "source": [
    "data"
   ]
  },
  {
   "cell_type": "code",
   "execution_count": 7,
   "metadata": {
    "collapsed": true
   },
   "outputs": [],
   "source": [
    "for i in range(N*U):\n",
    "    for j in range(N):\n",
    "        data[i][j] = data[i][j].replace('i', 'j')\n",
    "        #data[i][j] = data[i][j].replace(\" \", \"\")\n",
    "        #data[i][j]=complex(data[i][j])"
   ]
  },
  {
   "cell_type": "code",
   "execution_count": 8,
   "metadata": {
    "collapsed": false
   },
   "outputs": [
    {
     "data": {
      "text/plain": [
       "array([['0.354688+2.82253e-08j', '1.39008-1.19565j', '-0.515333+2.26203j'],\n",
       "       ['1.39008+1.19565j', '9.47851-1.88798e-08j', '-9.64496+7.12809j'],\n",
       "       ['-0.515333-2.26203j', '-9.64496-7.12809j', '15.1749-1.22368e-08j'],\n",
       "       ['2.83042-2.63932e-10j', '-4.0405+1.07721j', '6.04181-6.25605j'],\n",
       "       ['-4.0405-1.07721j', '6.1779+5.47623e-09j', '-11.0058+6.63127j'],\n",
       "       ['6.04181+6.25605j', '-11.0058-6.63127j', '26.7246+5.79387e-09j'],\n",
       "       ['11.8811-4.75101e-10j', '0.249695-15.5678j', '-24.3848+5.39302j'],\n",
       "       ['0.249695+15.5678j', '20.4038+1.0657e-08j', '-7.57897-31.8382j'],\n",
       "       ['-24.3848-5.39302j', '-7.57897+31.8382j', '52.4957+6.05619e-09j']], \n",
       "      dtype='<U21')"
      ]
     },
     "execution_count": 8,
     "metadata": {},
     "output_type": "execute_result"
    }
   ],
   "source": [
    "data"
   ]
  },
  {
   "cell_type": "code",
   "execution_count": 9,
   "metadata": {
    "collapsed": false
   },
   "outputs": [],
   "source": [
    "data=data.astype(complex)"
   ]
  },
  {
   "cell_type": "code",
   "execution_count": 10,
   "metadata": {
    "collapsed": false
   },
   "outputs": [
    {
     "data": {
      "text/plain": [
       "array([[  0.354688 +2.82253000e-08j,   1.390080 -1.19565000e+00j,\n",
       "         -0.515333 +2.26203000e+00j],\n",
       "       [  1.390080 +1.19565000e+00j,   9.478510 -1.88798000e-08j,\n",
       "         -9.644960 +7.12809000e+00j],\n",
       "       [ -0.515333 -2.26203000e+00j,  -9.644960 -7.12809000e+00j,\n",
       "         15.174900 -1.22368000e-08j],\n",
       "       [  2.830420 -2.63932000e-10j,  -4.040500 +1.07721000e+00j,\n",
       "          6.041810 -6.25605000e+00j],\n",
       "       [ -4.040500 -1.07721000e+00j,   6.177900 +5.47623000e-09j,\n",
       "        -11.005800 +6.63127000e+00j],\n",
       "       [  6.041810 +6.25605000e+00j, -11.005800 -6.63127000e+00j,\n",
       "         26.724600 +5.79387000e-09j],\n",
       "       [ 11.881100 -4.75101000e-10j,   0.249695 -1.55678000e+01j,\n",
       "        -24.384800 +5.39302000e+00j],\n",
       "       [  0.249695 +1.55678000e+01j,  20.403800 +1.06570000e-08j,\n",
       "         -7.578970 -3.18382000e+01j],\n",
       "       [-24.384800 -5.39302000e+00j,  -7.578970 +3.18382000e+01j,\n",
       "         52.495700 +6.05619000e-09j]])"
      ]
     },
     "execution_count": 10,
     "metadata": {},
     "output_type": "execute_result"
    }
   ],
   "source": [
    "data"
   ]
  },
  {
   "cell_type": "code",
   "execution_count": 11,
   "metadata": {
    "collapsed": true
   },
   "outputs": [],
   "source": [
    "H_pre=[[],[],[]]\n",
    "l=0\n",
    "u=N\n",
    "for i in range(0,U):\n",
    "    H_pre[i]=data[l:u]\n",
    "    l=l+N\n",
    "    u=l+N"
   ]
  },
  {
   "cell_type": "code",
   "execution_count": 12,
   "metadata": {
    "collapsed": true
   },
   "outputs": [],
   "source": [
    "H_pre_trans=[[],[],[]]\n",
    "for i in range(0,U):\n",
    "    H_pre_trans[i]=np.transpose(H_pre[i])"
   ]
  },
  {
   "cell_type": "code",
   "execution_count": 54,
   "metadata": {
    "collapsed": true
   },
   "outputs": [],
   "source": [
    "H=[[],[],[]]\n",
    "for i in range(U):\n",
    "    H[i]=H_pre[i]+H_pre_trans[i]"
   ]
  },
  {
   "cell_type": "code",
   "execution_count": 13,
   "metadata": {
    "collapsed": true
   },
   "outputs": [],
   "source": [
    "# processing of h_hat_vector"
   ]
  },
  {
   "cell_type": "code",
   "execution_count": 14,
   "metadata": {
    "collapsed": true
   },
   "outputs": [],
   "source": [
    "h=[[],[],[]]\n",
    "with open('h_hat_data.csv') as h_file:\n",
    "    h_reader = csv.reader(h_file)\n",
    "    h_hat = list(h_reader)"
   ]
  },
  {
   "cell_type": "code",
   "execution_count": 15,
   "metadata": {
    "collapsed": true
   },
   "outputs": [],
   "source": [
    "h_hat=np.array(h_hat)"
   ]
  },
  {
   "cell_type": "code",
   "execution_count": 16,
   "metadata": {
    "collapsed": false
   },
   "outputs": [
    {
     "data": {
      "text/plain": [
       "array([['-9.10403+9.99542i', '-2.19513+2.02451i', '-0.117999+0.227934i'],\n",
       "       ['-10.2877+5.20034i', '-3.71424-10.4307i', '-0.664235-6.28324i'],\n",
       "       ['2.44262-1.27425i', '-15.388+2.60369i', '0.3515-6.33737i']], \n",
       "      dtype='<U19')"
      ]
     },
     "execution_count": 16,
     "metadata": {},
     "output_type": "execute_result"
    }
   ],
   "source": [
    "h_hat=np.delete(h_hat,-1,1)   # delete last column of h_hat\n",
    "h_hat"
   ]
  },
  {
   "cell_type": "code",
   "execution_count": 17,
   "metadata": {
    "collapsed": true
   },
   "outputs": [],
   "source": [
    "for i in range(U):\n",
    "    for j in range(N):\n",
    "        h_hat[i][j] = h_hat[i][j].replace('i', 'j')"
   ]
  },
  {
   "cell_type": "code",
   "execution_count": 18,
   "metadata": {
    "collapsed": false
   },
   "outputs": [
    {
     "data": {
      "text/plain": [
       "array(['-10.2877+5.20034j', '-3.71424-10.4307j', '-0.664235-6.28324j'], \n",
       "      dtype='<U19')"
      ]
     },
     "execution_count": 18,
     "metadata": {},
     "output_type": "execute_result"
    }
   ],
   "source": [
    "h_hat[1]"
   ]
  },
  {
   "cell_type": "code",
   "execution_count": 19,
   "metadata": {
    "collapsed": true
   },
   "outputs": [],
   "source": [
    "h_hat=h_hat.astype(complex)"
   ]
  },
  {
   "cell_type": "code",
   "execution_count": 20,
   "metadata": {
    "collapsed": false
   },
   "outputs": [
    {
     "data": {
      "text/plain": [
       "array([[ -9.104030 +9.99542j ,  -2.195130 +2.02451j ,  -0.117999 +0.227934j],\n",
       "       [-10.287700 +5.20034j ,  -3.714240-10.4307j  ,  -0.664235 -6.28324j ],\n",
       "       [  2.442620 -1.27425j , -15.388000 +2.60369j ,   0.351500 -6.33737j ]])"
      ]
     },
     "execution_count": 20,
     "metadata": {},
     "output_type": "execute_result"
    }
   ],
   "source": [
    "h_hat"
   ]
  },
  {
   "cell_type": "code",
   "execution_count": 21,
   "metadata": {
    "collapsed": true
   },
   "outputs": [],
   "source": [
    "for i in range(0,U):\n",
    "    h[i]=h_hat[i]"
   ]
  },
  {
   "cell_type": "code",
   "execution_count": 22,
   "metadata": {
    "collapsed": false
   },
   "outputs": [
    {
     "data": {
      "text/plain": [
       "[array([-9.104030+9.99542j , -2.195130+2.02451j , -0.117999+0.227934j]),\n",
       " array([-10.287700 +5.20034j,  -3.714240-10.4307j ,  -0.664235 -6.28324j]),\n",
       " array([  2.44262-1.27425j, -15.38800+2.60369j,   0.35150-6.33737j])]"
      ]
     },
     "execution_count": 22,
     "metadata": {},
     "output_type": "execute_result"
    }
   ],
   "source": [
    "h"
   ]
  },
  {
   "cell_type": "code",
   "execution_count": 52,
   "metadata": {
    "collapsed": false
   },
   "outputs": [
    {
     "ename": "SyntaxError",
     "evalue": "invalid syntax (<ipython-input-52-a1b5b8c2cddb>, line 4)",
     "output_type": "error",
     "traceback": [
      "\u001b[0;36m  File \u001b[0;32m\"<ipython-input-52-a1b5b8c2cddb>\"\u001b[0;36m, line \u001b[0;32m4\u001b[0m\n\u001b[0;31m    f_bu[i]=2*(2*lambda*np.eye(N) + H_pre[i] + np.transpose(H_pre[i]) )\u001b[0m\n\u001b[0m                      ^\u001b[0m\n\u001b[0;31mSyntaxError\u001b[0m\u001b[0;31m:\u001b[0m invalid syntax\n"
     ]
    }
   ],
   "source": [
    "f_bu=[[],[],[]]\n",
    "#lambda # lagrange parameter\n",
    "for i in range(0,U):\n",
    "    f_bu[i]=2*(2*lambda*np.eye(N) + H_pre[i] + np.transpose(H_pre[i]) )"
   ]
  },
  {
   "cell_type": "code",
   "execution_count": 53,
   "metadata": {
    "collapsed": true
   },
   "outputs": [],
   "source": [
    "from cvxopt import matrix, solvers\n"
   ]
  },
  {
   "cell_type": "code",
   "execution_count": 58,
   "metadata": {
    "collapsed": false
   },
   "outputs": [
    {
     "data": {
      "text/plain": [
       "array([[  0.709376 +5.64506000e-08j,   2.780160 +0.00000000e+00j,\n",
       "         -1.030666 +0.00000000e+00j],\n",
       "       [  2.780160 +0.00000000e+00j,  18.957020 -3.77596000e-08j,\n",
       "        -19.289920 +0.00000000e+00j],\n",
       "       [ -1.030666 +0.00000000e+00j, -19.289920 +0.00000000e+00j,\n",
       "         30.349800 -2.44736000e-08j]])"
      ]
     },
     "execution_count": 58,
     "metadata": {},
     "output_type": "execute_result"
    }
   ],
   "source": [
    "H[0]"
   ]
  },
  {
   "cell_type": "code",
   "execution_count": null,
   "metadata": {
    "collapsed": true
   },
   "outputs": [],
   "source": []
  },
  {
   "cell_type": "code",
   "execution_count": 50,
   "metadata": {
    "collapsed": false
   },
   "outputs": [
    {
     "ename": "SyntaxError",
     "evalue": "invalid syntax (<ipython-input-50-8c8a4646591e>, line 1)",
     "output_type": "error",
     "traceback": [
      "\u001b[0;36m  File \u001b[0;32m\"<ipython-input-50-8c8a4646591e>\"\u001b[0;36m, line \u001b[0;32m1\u001b[0m\n\u001b[0;31m    lambda\u001b[0m\n\u001b[0m          ^\u001b[0m\n\u001b[0;31mSyntaxError\u001b[0m\u001b[0;31m:\u001b[0m invalid syntax\n"
     ]
    }
   ],
   "source": [
    "lambda"
   ]
  },
  {
   "cell_type": "code",
   "execution_count": null,
   "metadata": {
    "collapsed": true
   },
   "outputs": [],
   "source": []
  },
  {
   "cell_type": "code",
   "execution_count": 49,
   "metadata": {
    "collapsed": false
   },
   "outputs": [
    {
     "data": {
      "text/plain": [
       "[]"
      ]
     },
     "execution_count": 49,
     "metadata": {},
     "output_type": "execute_result"
    }
   ],
   "source": [
    "f_bu[0]"
   ]
  },
  {
   "cell_type": "code",
   "execution_count": null,
   "metadata": {
    "collapsed": true
   },
   "outputs": [],
   "source": []
  },
  {
   "cell_type": "code",
   "execution_count": null,
   "metadata": {
    "collapsed": true
   },
   "outputs": [],
   "source": []
  },
  {
   "cell_type": "code",
   "execution_count": 40,
   "metadata": {
    "collapsed": false
   },
   "outputs": [
    {
     "data": {
      "text/plain": [
       "0"
      ]
     },
     "execution_count": 40,
     "metadata": {},
     "output_type": "execute_result"
    }
   ],
   "source": [
    "lmda"
   ]
  },
  {
   "cell_type": "code",
   "execution_count": null,
   "metadata": {
    "collapsed": true
   },
   "outputs": [],
   "source": []
  },
  {
   "cell_type": "code",
   "execution_count": 25,
   "metadata": {
    "collapsed": false
   },
   "outputs": [
    {
     "data": {
      "text/plain": [
       "array([[ 11.881100 -4.75101000e-10j,   0.249695 +1.55678000e+01j,\n",
       "        -24.384800 -5.39302000e+00j],\n",
       "       [  0.249695 -1.55678000e+01j,  20.403800 +1.06570000e-08j,\n",
       "         -7.578970 +3.18382000e+01j],\n",
       "       [-24.384800 +5.39302000e+00j,  -7.578970 -3.18382000e+01j,\n",
       "         52.495700 +6.05619000e-09j]])"
      ]
     },
     "execution_count": 25,
     "metadata": {},
     "output_type": "execute_result"
    }
   ],
   "source": [
    "a=np.transpose(H_pre[2])\n",
    "a"
   ]
  },
  {
   "cell_type": "code",
   "execution_count": 26,
   "metadata": {
    "collapsed": false
   },
   "outputs": [
    {
     "data": {
      "text/plain": [
       "array([[ 11.881100 -4.75101000e-10j,   0.249695 -1.55678000e+01j,\n",
       "        -24.384800 +5.39302000e+00j],\n",
       "       [  0.249695 +1.55678000e+01j,  20.403800 +1.06570000e-08j,\n",
       "         -7.578970 -3.18382000e+01j],\n",
       "       [-24.384800 -5.39302000e+00j,  -7.578970 +3.18382000e+01j,\n",
       "         52.495700 +6.05619000e-09j]])"
      ]
     },
     "execution_count": 26,
     "metadata": {},
     "output_type": "execute_result"
    }
   ],
   "source": [
    "H_pre[2]"
   ]
  },
  {
   "cell_type": "code",
   "execution_count": 27,
   "metadata": {
    "collapsed": false
   },
   "outputs": [
    {
     "data": {
      "text/plain": [
       "array([[ 11.881100 -4.75101000e-10j,   0.249695 +1.55678000e+01j,\n",
       "        -24.384800 -5.39302000e+00j],\n",
       "       [  0.249695 -1.55678000e+01j,  20.403800 +1.06570000e-08j,\n",
       "         -7.578970 +3.18382000e+01j],\n",
       "       [-24.384800 +5.39302000e+00j,  -7.578970 -3.18382000e+01j,\n",
       "         52.495700 +6.05619000e-09j]])"
      ]
     },
     "execution_count": 27,
     "metadata": {},
     "output_type": "execute_result"
    }
   ],
   "source": [
    "a"
   ]
  },
  {
   "cell_type": "code",
   "execution_count": null,
   "metadata": {
    "collapsed": true
   },
   "outputs": [],
   "source": []
  },
  {
   "cell_type": "code",
   "execution_count": null,
   "metadata": {
    "collapsed": true
   },
   "outputs": [],
   "source": []
  },
  {
   "cell_type": "code",
   "execution_count": null,
   "metadata": {
    "collapsed": true
   },
   "outputs": [],
   "source": []
  },
  {
   "cell_type": "code",
   "execution_count": null,
   "metadata": {
    "collapsed": false
   },
   "outputs": [],
   "source": [
    "a"
   ]
  },
  {
   "cell_type": "code",
   "execution_count": null,
   "metadata": {
    "collapsed": false
   },
   "outputs": [],
   "source": [
    "a=np.asmatrix(a)\n",
    "a"
   ]
  },
  {
   "cell_type": "code",
   "execution_count": null,
   "metadata": {
    "collapsed": false
   },
   "outputs": [],
   "source": [
    "b=np.asmatrix(H_pre[2])\n",
    "b"
   ]
  },
  {
   "cell_type": "code",
   "execution_count": null,
   "metadata": {
    "collapsed": false
   },
   "outputs": [],
   "source": [
    "c=a+b"
   ]
  },
  {
   "cell_type": "code",
   "execution_count": null,
   "metadata": {
    "collapsed": true
   },
   "outputs": [],
   "source": []
  },
  {
   "cell_type": "code",
   "execution_count": null,
   "metadata": {
    "collapsed": true
   },
   "outputs": [],
   "source": []
  },
  {
   "cell_type": "code",
   "execution_count": null,
   "metadata": {
    "collapsed": true
   },
   "outputs": [],
   "source": []
  },
  {
   "cell_type": "code",
   "execution_count": null,
   "metadata": {
    "collapsed": true
   },
   "outputs": [],
   "source": []
  },
  {
   "cell_type": "code",
   "execution_count": null,
   "metadata": {
    "collapsed": true
   },
   "outputs": [],
   "source": []
  },
  {
   "cell_type": "code",
   "execution_count": null,
   "metadata": {
    "collapsed": true
   },
   "outputs": [],
   "source": []
  },
  {
   "cell_type": "code",
   "execution_count": null,
   "metadata": {
    "collapsed": true
   },
   "outputs": [],
   "source": []
  },
  {
   "cell_type": "code",
   "execution_count": null,
   "metadata": {
    "collapsed": true
   },
   "outputs": [],
   "source": []
  },
  {
   "cell_type": "code",
   "execution_count": null,
   "metadata": {
    "collapsed": true
   },
   "outputs": [],
   "source": []
  },
  {
   "cell_type": "code",
   "execution_count": null,
   "metadata": {
    "collapsed": true
   },
   "outputs": [],
   "source": []
  },
  {
   "cell_type": "code",
   "execution_count": null,
   "metadata": {
    "collapsed": true
   },
   "outputs": [],
   "source": []
  },
  {
   "cell_type": "code",
   "execution_count": null,
   "metadata": {
    "collapsed": true
   },
   "outputs": [],
   "source": []
  },
  {
   "cell_type": "code",
   "execution_count": null,
   "metadata": {
    "collapsed": true
   },
   "outputs": [],
   "source": []
  },
  {
   "cell_type": "code",
   "execution_count": null,
   "metadata": {
    "collapsed": true
   },
   "outputs": [],
   "source": []
  },
  {
   "cell_type": "code",
   "execution_count": null,
   "metadata": {
    "collapsed": true
   },
   "outputs": [],
   "source": []
  },
  {
   "cell_type": "code",
   "execution_count": null,
   "metadata": {
    "collapsed": true
   },
   "outputs": [],
   "source": []
  },
  {
   "cell_type": "code",
   "execution_count": null,
   "metadata": {
    "collapsed": true
   },
   "outputs": [],
   "source": []
  },
  {
   "cell_type": "code",
   "execution_count": null,
   "metadata": {
    "collapsed": true
   },
   "outputs": [],
   "source": []
  },
  {
   "cell_type": "code",
   "execution_count": null,
   "metadata": {
    "collapsed": true
   },
   "outputs": [],
   "source": []
  },
  {
   "cell_type": "code",
   "execution_count": null,
   "metadata": {
    "collapsed": true
   },
   "outputs": [],
   "source": []
  },
  {
   "cell_type": "code",
   "execution_count": null,
   "metadata": {
    "collapsed": true
   },
   "outputs": [],
   "source": []
  },
  {
   "cell_type": "code",
   "execution_count": null,
   "metadata": {
    "collapsed": true
   },
   "outputs": [],
   "source": []
  },
  {
   "cell_type": "code",
   "execution_count": null,
   "metadata": {
    "collapsed": true
   },
   "outputs": [],
   "source": []
  },
  {
   "cell_type": "code",
   "execution_count": null,
   "metadata": {
    "collapsed": true
   },
   "outputs": [],
   "source": []
  },
  {
   "cell_type": "code",
   "execution_count": null,
   "metadata": {
    "collapsed": true
   },
   "outputs": [],
   "source": []
  },
  {
   "cell_type": "code",
   "execution_count": null,
   "metadata": {
    "collapsed": true
   },
   "outputs": [],
   "source": []
  },
  {
   "cell_type": "code",
   "execution_count": null,
   "metadata": {
    "collapsed": true
   },
   "outputs": [],
   "source": []
  },
  {
   "cell_type": "code",
   "execution_count": null,
   "metadata": {
    "collapsed": true
   },
   "outputs": [],
   "source": []
  },
  {
   "cell_type": "code",
   "execution_count": null,
   "metadata": {
    "collapsed": true
   },
   "outputs": [],
   "source": []
  },
  {
   "cell_type": "code",
   "execution_count": null,
   "metadata": {
    "collapsed": true
   },
   "outputs": [],
   "source": []
  },
  {
   "cell_type": "code",
   "execution_count": null,
   "metadata": {
    "collapsed": true
   },
   "outputs": [],
   "source": []
  },
  {
   "cell_type": "code",
   "execution_count": null,
   "metadata": {
    "collapsed": true
   },
   "outputs": [],
   "source": []
  },
  {
   "cell_type": "raw",
   "metadata": {
    "collapsed": false
   },
   "source": []
  },
  {
   "cell_type": "code",
   "execution_count": null,
   "metadata": {
    "collapsed": true
   },
   "outputs": [],
   "source": [
    "#code for the text file\n",
    "# text_file = open(\"pilot_contamination_data.txt\", \"r\")\n",
    "# H_pre=[[],[],[]]\n",
    "# H_pre_trans=[[],[],[]]\n",
    "# h_hat=[[],[],[]]\n",
    "# text_file.readline()\n",
    "# text_file.readline()\n",
    "# line_number=U-1\n",
    "# for u in range(0,U):\n",
    "#     for i in range(0,N):\n",
    "#         #H_pre=text_file.read().split(\"\\n\")[line_number]\n",
    "#         H_pre[u].insert(i,text_file.readline())\n",
    "#         H_pre[u][-1] = H_pre[u][-1].strip()\n",
    "#     text_file.readline()\n",
    "#     H_pre[u]=np.array(H_pre[u])\n",
    "# #text_file.readline()\n",
    "# for u in range(0,U):\n",
    "#     for i in range(0,N):\n",
    "#         #H_pre=text_file.read().split(\"\\n\")[line_number]\n",
    "#         H_pre_trans[u].insert(i,text_file.readline())\n",
    "#         H_pre_trans[u][-1] = H_pre_trans[u][-1].strip()\n",
    "#     text_file.readline()\n",
    "# #text_file.readline()\n",
    "# for u in range(3):\n",
    "#     for i in range(1):\n",
    "#         #H_pre=text_file.read().split(\"\\n\")[line_number]\n",
    "#         h_hat[u].insert(i,text_file.readline())\n",
    "#         h_hat[u][-1] = h_hat[u][-1].strip()\n",
    "#     text_file.readline()\n"
   ]
  }
 ],
 "metadata": {
  "anaconda-cloud": {},
  "kernelspec": {
   "display_name": "Python [conda root]",
   "language": "python",
   "name": "conda-root-py"
  },
  "language_info": {
   "codemirror_mode": {
    "name": "ipython",
    "version": 3
   },
   "file_extension": ".py",
   "mimetype": "text/x-python",
   "name": "python",
   "nbconvert_exporter": "python",
   "pygments_lexer": "ipython3",
   "version": "3.5.2"
  }
 },
 "nbformat": 4,
 "nbformat_minor": 1
}
