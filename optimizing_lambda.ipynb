{
 "cells": [
  {
   "cell_type": "code",
   "execution_count": 1,
   "metadata": {
    "collapsed": true
   },
   "outputs": [],
   "source": [
    "import os\n",
    "import numpy as np\n",
    "import csv\n",
    "import cvxopt\n",
    "from numpy.linalg import inv\n",
    "import cvxopt"
   ]
  },
  {
   "cell_type": "code",
   "execution_count": 2,
   "metadata": {
    "collapsed": false
   },
   "outputs": [],
   "source": [
    "U=3\n",
    "N=3"
   ]
  },
  {
   "cell_type": "code",
   "execution_count": 7,
   "metadata": {
    "collapsed": false
   },
   "outputs": [
    {
     "name": "stdout",
     "output_type": "stream",
     "text": [
      "['0.354688+2.82253e-08i', '1.39008-1.19565i', '-0.515333+2.26203i', '']\n",
      "['6.04181+6.25605i', '-11.0058-6.63127i', '26.7246+5.79387e-09i', '']\n"
     ]
    }
   ],
   "source": [
    "with open('data_pilot_contamination.csv') as csv_file:\n",
    "    csv_reader = csv.reader(csv_file)\n",
    "    rows = list(csv_reader)"
   ]
  },
  {
   "cell_type": "code",
   "execution_count": null,
   "metadata": {
    "collapsed": true
   },
   "outputs": [],
   "source": [
    "#for i in range(0,U):\n",
    "    "
   ]
  },
  {
   "cell_type": "code",
   "execution_count": 8,
   "metadata": {
    "collapsed": false
   },
   "outputs": [
    {
     "data": {
      "text/plain": [
       "[['0.354688+2.82253e-08i', '1.39008-1.19565i', '-0.515333+2.26203i', ''],\n",
       " ['1.39008+1.19565i', '9.47851-1.88798e-08i', '-9.64496+7.12809i', ''],\n",
       " ['-0.515333-2.26203i', '-9.64496-7.12809i', '15.1749-1.22368e-08i', ''],\n",
       " ['2.83042-2.63932e-10i', '-4.0405+1.07721i', '6.04181-6.25605i', ''],\n",
       " ['-4.0405-1.07721i', '6.1779+5.47623e-09i', '-11.0058+6.63127i', ''],\n",
       " ['6.04181+6.25605i', '-11.0058-6.63127i', '26.7246+5.79387e-09i', ''],\n",
       " ['11.8811-4.75101e-10i', '0.249695-15.5678i', '-24.3848+5.39302i', ''],\n",
       " ['0.249695+15.5678i', '20.4038+1.0657e-08i', '-7.57897-31.8382i', ''],\n",
       " ['-24.3848-5.39302i', '-7.57897+31.8382i', '52.4957+6.05619e-09i', '']]"
      ]
     },
     "execution_count": 8,
     "metadata": {},
     "output_type": "execute_result"
    }
   ],
   "source": [
    "rows"
   ]
  },
  {
   "cell_type": "code",
   "execution_count": 9,
   "metadata": {
    "collapsed": true
   },
   "outputs": [],
   "source": [
    "rows=np.array(rows)"
   ]
  },
  {
   "cell_type": "code",
   "execution_count": 10,
   "metadata": {
    "collapsed": false
   },
   "outputs": [
    {
     "data": {
      "text/plain": [
       "array([['0.354688+2.82253e-08i', '1.39008-1.19565i', '-0.515333+2.26203i',\n",
       "        ''],\n",
       "       ['1.39008+1.19565i', '9.47851-1.88798e-08i', '-9.64496+7.12809i', ''],\n",
       "       ['-0.515333-2.26203i', '-9.64496-7.12809i', '15.1749-1.22368e-08i',\n",
       "        ''],\n",
       "       ['2.83042-2.63932e-10i', '-4.0405+1.07721i', '6.04181-6.25605i', ''],\n",
       "       ['-4.0405-1.07721i', '6.1779+5.47623e-09i', '-11.0058+6.63127i', ''],\n",
       "       ['6.04181+6.25605i', '-11.0058-6.63127i', '26.7246+5.79387e-09i', ''],\n",
       "       ['11.8811-4.75101e-10i', '0.249695-15.5678i', '-24.3848+5.39302i',\n",
       "        ''],\n",
       "       ['0.249695+15.5678i', '20.4038+1.0657e-08i', '-7.57897-31.8382i', ''],\n",
       "       ['-24.3848-5.39302i', '-7.57897+31.8382i', '52.4957+6.05619e-09i',\n",
       "        '']], \n",
       "      dtype='<U21')"
      ]
     },
     "execution_count": 10,
     "metadata": {},
     "output_type": "execute_result"
    }
   ],
   "source": [
    "rows"
   ]
  },
  {
   "cell_type": "code",
   "execution_count": 13,
   "metadata": {
    "collapsed": true
   },
   "outputs": [],
   "source": [
    "rows_del_last_col=np.delete(rows,-1,1)   # delete last column of train.csv"
   ]
  },
  {
   "cell_type": "code",
   "execution_count": null,
   "metadata": {
    "collapsed": true
   },
   "outputs": [],
   "source": []
  },
  {
   "cell_type": "code",
   "execution_count": 14,
   "metadata": {
    "collapsed": false
   },
   "outputs": [
    {
     "data": {
      "text/plain": [
       "array([['0.354688+2.82253e-08i', '1.39008-1.19565i', '-0.515333+2.26203i'],\n",
       "       ['1.39008+1.19565i', '9.47851-1.88798e-08i', '-9.64496+7.12809i'],\n",
       "       ['-0.515333-2.26203i', '-9.64496-7.12809i', '15.1749-1.22368e-08i'],\n",
       "       ['2.83042-2.63932e-10i', '-4.0405+1.07721i', '6.04181-6.25605i'],\n",
       "       ['-4.0405-1.07721i', '6.1779+5.47623e-09i', '-11.0058+6.63127i'],\n",
       "       ['6.04181+6.25605i', '-11.0058-6.63127i', '26.7246+5.79387e-09i'],\n",
       "       ['11.8811-4.75101e-10i', '0.249695-15.5678i', '-24.3848+5.39302i'],\n",
       "       ['0.249695+15.5678i', '20.4038+1.0657e-08i', '-7.57897-31.8382i'],\n",
       "       ['-24.3848-5.39302i', '-7.57897+31.8382i', '52.4957+6.05619e-09i']], \n",
       "      dtype='<U21')"
      ]
     },
     "execution_count": 14,
     "metadata": {},
     "output_type": "execute_result"
    }
   ],
   "source": [
    "rows_del_last_col\n"
   ]
  },
  {
   "cell_type": "code",
   "execution_count": 17,
   "metadata": {
    "collapsed": false
   },
   "outputs": [
    {
     "ename": "TypeError",
     "evalue": "'numpy.ndarray' object is not callable",
     "output_type": "error",
     "traceback": [
      "\u001b[0;31m---------------------------------------------------------------------------\u001b[0m",
      "\u001b[0;31mTypeError\u001b[0m                                 Traceback (most recent call last)",
      "\u001b[0;32m<ipython-input-17-b6f57a325748>\u001b[0m in \u001b[0;36m<module>\u001b[0;34m()\u001b[0m\n\u001b[1;32m      1\u001b[0m \u001b[0;32mfor\u001b[0m \u001b[0mi\u001b[0m \u001b[0;32min\u001b[0m \u001b[0mrange\u001b[0m\u001b[0;34m(\u001b[0m\u001b[0;36m0\u001b[0m\u001b[0;34m,\u001b[0m\u001b[0mU\u001b[0m\u001b[0;34m)\u001b[0m\u001b[0;34m:\u001b[0m\u001b[0;34m\u001b[0m\u001b[0m\n\u001b[1;32m      2\u001b[0m     \u001b[0;32mfor\u001b[0m \u001b[0mn\u001b[0m \u001b[0;32min\u001b[0m \u001b[0mrange\u001b[0m\u001b[0;34m(\u001b[0m\u001b[0;36m0\u001b[0m\u001b[0;34m,\u001b[0m\u001b[0mN\u001b[0m\u001b[0;34m)\u001b[0m\u001b[0;34m:\u001b[0m\u001b[0;34m\u001b[0m\u001b[0m\n\u001b[0;32m----> 3\u001b[0;31m         \u001b[0mH_pre\u001b[0m\u001b[0;34m[\u001b[0m\u001b[0mi\u001b[0m\u001b[0;34m]\u001b[0m\u001b[0;34m=\u001b[0m\u001b[0mrows_del_last_col\u001b[0m\u001b[0;34m(\u001b[0m\u001b[0mi\u001b[0m\u001b[0;34m*\u001b[0m\u001b[0mn\u001b[0m\u001b[0;34m,\u001b[0m\u001b[0;34m(\u001b[0m\u001b[0mi\u001b[0m\u001b[0;34m*\u001b[0m\u001b[0mn\u001b[0m\u001b[0;34m)\u001b[0m\u001b[0;34m+\u001b[0m\u001b[0mn\u001b[0m\u001b[0;34m)\u001b[0m\u001b[0;34m\u001b[0m\u001b[0m\n\u001b[0m",
      "\u001b[0;31mTypeError\u001b[0m: 'numpy.ndarray' object is not callable"
     ]
    }
   ],
   "source": [
    "for i in range(0,U):\n",
    "    for n in range(0,N):\n",
    "        H_pre[i]=rows_del_last_col(i*n,(i*n)+n)"
   ]
  },
  {
   "cell_type": "code",
   "execution_count": null,
   "metadata": {
    "collapsed": true
   },
   "outputs": [],
   "source": []
  },
  {
   "cell_type": "code",
   "execution_count": null,
   "metadata": {
    "collapsed": true
   },
   "outputs": [],
   "source": []
  },
  {
   "cell_type": "code",
   "execution_count": null,
   "metadata": {
    "collapsed": true
   },
   "outputs": [],
   "source": []
  },
  {
   "cell_type": "code",
   "execution_count": null,
   "metadata": {
    "collapsed": true
   },
   "outputs": [],
   "source": []
  },
  {
   "cell_type": "code",
   "execution_count": null,
   "metadata": {
    "collapsed": true
   },
   "outputs": [],
   "source": []
  },
  {
   "cell_type": "code",
   "execution_count": 4,
   "metadata": {
    "collapsed": false
   },
   "outputs": [
    {
     "data": {
      "text/plain": [
       "[['0.354688+2.82253e-08i', '1.39008-1.19565i', '-0.515333+2.26203i', ''],\n",
       " ['2.83042-2.63932e-10i', '-4.0405+1.07721i', '6.04181-6.25605i', '']]"
      ]
     },
     "execution_count": 4,
     "metadata": {},
     "output_type": "execute_result"
    }
   ],
   "source": [
    "interestingrows"
   ]
  },
  {
   "cell_type": "code",
   "execution_count": null,
   "metadata": {
    "collapsed": true
   },
   "outputs": [],
   "source": []
  },
  {
   "cell_type": "code",
   "execution_count": null,
   "metadata": {
    "collapsed": true
   },
   "outputs": [],
   "source": []
  },
  {
   "cell_type": "code",
   "execution_count": null,
   "metadata": {
    "collapsed": true
   },
   "outputs": [],
   "source": [
    "#code for the csv file \n",
    "csv_file = csv.reader(open('data_pilot_contamination.csv'))\n",
    "H_pre=[[],[],[]]\n",
    "H_pre_trans=[[],[],[]]\n",
    "h_hat=[[],[],[]]\n",
    "for u in range(0,U):\n",
    "    for i in range(0,N):\n",
    "        H_pre[u].append(csv_file)\n"
   ]
  },
  {
   "cell_type": "code",
   "execution_count": null,
   "metadata": {
    "collapsed": true
   },
   "outputs": [],
   "source": [
    "H"
   ]
  },
  {
   "cell_type": "code",
   "execution_count": null,
   "metadata": {
    "collapsed": false
   },
   "outputs": [],
   "source": [
    "H_pre[2]"
   ]
  },
  {
   "cell_type": "code",
   "execution_count": null,
   "metadata": {
    "collapsed": true
   },
   "outputs": [],
   "source": []
  },
  {
   "cell_type": "code",
   "execution_count": null,
   "metadata": {
    "collapsed": false
   },
   "outputs": [],
   "source": [
    "csv_file"
   ]
  },
  {
   "cell_type": "code",
   "execution_count": null,
   "metadata": {
    "collapsed": true
   },
   "outputs": [],
   "source": []
  },
  {
   "cell_type": "code",
   "execution_count": null,
   "metadata": {
    "collapsed": true
   },
   "outputs": [],
   "source": []
  },
  {
   "cell_type": "code",
   "execution_count": null,
   "metadata": {
    "collapsed": false
   },
   "outputs": [],
   "source": [
    "#code for the text file\n",
    "# text_file = open(\"pilot_contamination_data.txt\", \"r\")\n",
    "# H_pre=[[],[],[]]\n",
    "# H_pre_trans=[[],[],[]]\n",
    "# h_hat=[[],[],[]]\n",
    "# text_file.readline()\n",
    "# text_file.readline()\n",
    "# line_number=U-1\n",
    "# for u in range(0,U):\n",
    "#     for i in range(0,N):\n",
    "#         #H_pre=text_file.read().split(\"\\n\")[line_number]\n",
    "#         H_pre[u].insert(i,text_file.readline())\n",
    "#         H_pre[u][-1] = H_pre[u][-1].strip()\n",
    "#     text_file.readline()\n",
    "#     H_pre[u]=np.array(H_pre[u])\n",
    "# #text_file.readline()\n",
    "# for u in range(0,U):\n",
    "#     for i in range(0,N):\n",
    "#         #H_pre=text_file.read().split(\"\\n\")[line_number]\n",
    "#         H_pre_trans[u].insert(i,text_file.readline())\n",
    "#         H_pre_trans[u][-1] = H_pre_trans[u][-1].strip()\n",
    "#     text_file.readline()\n",
    "# #text_file.readline()\n",
    "# for u in range(3):\n",
    "#     for i in range(1):\n",
    "#         #H_pre=text_file.read().split(\"\\n\")[line_number]\n",
    "#         h_hat[u].insert(i,text_file.readline())\n",
    "#         h_hat[u][-1] = h_hat[u][-1].strip()\n",
    "#     text_file.readline()\n"
   ]
  },
  {
   "cell_type": "code",
   "execution_count": null,
   "metadata": {
    "collapsed": false
   },
   "outputs": [],
   "source": [
    "H_pre[0]"
   ]
  },
  {
   "cell_type": "code",
   "execution_count": null,
   "metadata": {
    "collapsed": false
   },
   "outputs": [],
   "source": [
    "H_pre[1]"
   ]
  },
  {
   "cell_type": "code",
   "execution_count": null,
   "metadata": {
    "collapsed": false
   },
   "outputs": [],
   "source": [
    "H_pre[2]"
   ]
  },
  {
   "cell_type": "code",
   "execution_count": null,
   "metadata": {
    "collapsed": false
   },
   "outputs": [],
   "source": [
    "H_pre_trans[0]"
   ]
  },
  {
   "cell_type": "code",
   "execution_count": null,
   "metadata": {
    "collapsed": false
   },
   "outputs": [],
   "source": [
    "H_pre_trans[1]"
   ]
  },
  {
   "cell_type": "code",
   "execution_count": null,
   "metadata": {
    "collapsed": false
   },
   "outputs": [],
   "source": [
    "H_pre_trans[2]"
   ]
  },
  {
   "cell_type": "code",
   "execution_count": null,
   "metadata": {
    "collapsed": false
   },
   "outputs": [],
   "source": [
    "h_hat[0]"
   ]
  },
  {
   "cell_type": "code",
   "execution_count": null,
   "metadata": {
    "collapsed": false
   },
   "outputs": [],
   "source": [
    "h_hat[1]"
   ]
  },
  {
   "cell_type": "code",
   "execution_count": null,
   "metadata": {
    "collapsed": false
   },
   "outputs": [],
   "source": [
    "h_hat[2]"
   ]
  },
  {
   "cell_type": "code",
   "execution_count": null,
   "metadata": {
    "collapsed": false
   },
   "outputs": [],
   "source": [
    "# h_hat[2]= h_hat[2].astype(np.float)"
   ]
  },
  {
   "cell_type": "code",
   "execution_count": null,
   "metadata": {
    "collapsed": false
   },
   "outputs": [],
   "source": [
    "# a=(H_pre[0] @ H_pre[1])"
   ]
  },
  {
   "cell_type": "code",
   "execution_count": null,
   "metadata": {
    "collapsed": true
   },
   "outputs": [],
   "source": []
  },
  {
   "cell_type": "code",
   "execution_count": null,
   "metadata": {
    "collapsed": true
   },
   "outputs": [],
   "source": [
    "text_file.close()"
   ]
  },
  {
   "cell_type": "code",
   "execution_count": null,
   "metadata": {
    "collapsed": false
   },
   "outputs": [],
   "source": []
  },
  {
   "cell_type": "code",
   "execution_count": null,
   "metadata": {
    "collapsed": false
   },
   "outputs": [],
   "source": [
    "H_pre_trans[0]"
   ]
  },
  {
   "cell_type": "code",
   "execution_count": null,
   "metadata": {
    "collapsed": true
   },
   "outputs": [],
   "source": [
    "H_pre_trans[0]=np.matrix(H_pre_trans[0])\n",
    "H_pre_trans[1]=np.matrix(H_pre_trans[1])"
   ]
  },
  {
   "cell_type": "code",
   "execution_count": null,
   "metadata": {
    "collapsed": false
   },
   "outputs": [],
   "source": [
    "H_pre_trans[0]"
   ]
  },
  {
   "cell_type": "code",
   "execution_count": null,
   "metadata": {
    "collapsed": false
   },
   "outputs": [],
   "source": [
    "H_pre_trans[1]"
   ]
  },
  {
   "cell_type": "code",
   "execution_count": null,
   "metadata": {
    "collapsed": false
   },
   "outputs": [],
   "source": [
    "a = matmult(H_pre_trans[1] , H_pre_trans[1])"
   ]
  },
  {
   "cell_type": "code",
   "execution_count": null,
   "metadata": {
    "collapsed": true
   },
   "outputs": [],
   "source": []
  }
 ],
 "metadata": {
  "anaconda-cloud": {},
  "kernelspec": {
   "display_name": "Python [conda root]",
   "language": "python",
   "name": "conda-root-py"
  },
  "language_info": {
   "codemirror_mode": {
    "name": "ipython",
    "version": 3
   },
   "file_extension": ".py",
   "mimetype": "text/x-python",
   "name": "python",
   "nbconvert_exporter": "python",
   "pygments_lexer": "ipython3",
   "version": "3.5.2"
  }
 },
 "nbformat": 4,
 "nbformat_minor": 1
}
