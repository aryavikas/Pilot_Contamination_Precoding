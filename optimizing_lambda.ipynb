{
 "cells": [
  {
   "cell_type": "code",
   "execution_count": 34,
   "metadata": {
    "collapsed": true
   },
   "outputs": [],
   "source": [
    "import os\n",
    "import numpy as np\n",
    "import cvxopt\n",
    "from numpy.linalg import inv\n",
    "import cvxopt"
   ]
  },
  {
   "cell_type": "code",
   "execution_count": 35,
   "metadata": {
    "collapsed": false
   },
   "outputs": [],
   "source": [
    "U=3\n",
    "N=3"
   ]
  },
  {
   "cell_type": "code",
   "execution_count": 63,
   "metadata": {
    "collapsed": false
   },
   "outputs": [],
   "source": [
    "text_file = open(\"pilot_contamination_data.txt\", \"r\")\n",
    "H_pre=[[],[],[]]\n",
    "H_pre_trans=[[],[],[]]\n",
    "h_hat=[[],[],[]]\n",
    "text_file.readline()\n",
    "text_file.readline()\n",
    "line_number=U-1\n",
    "for u in range(0,U):\n",
    "    for i in range(0,N):\n",
    "        #H_pre=text_file.read().split(\"\\n\")[line_number]\n",
    "        H_pre[u].insert(i,text_file.readline())\n",
    "        H_pre[u][-1] = H_pre[u][-1].strip()\n",
    "    text_file.readline()\n",
    "    H_pre[u]=np.array(H_pre[u])\n",
    "#text_file.readline()\n",
    "for u in range(0,U):\n",
    "    for i in range(0,N):\n",
    "        #H_pre=text_file.read().split(\"\\n\")[line_number]\n",
    "        H_pre_trans[u].insert(i,text_file.readline())\n",
    "        H_pre_trans[u][-1] = H_pre_trans[u][-1].strip()\n",
    "    text_file.readline()\n",
    "#text_file.readline()\n",
    "for u in range(3):\n",
    "    for i in range(1):\n",
    "        #H_pre=text_file.read().split(\"\\n\")[line_number]\n",
    "        h_hat[u].insert(i,text_file.readline())\n",
    "        h_hat[u][-1] = h_hat[u][-1].strip()\n",
    "    text_file.readline()\n"
   ]
  },
  {
   "cell_type": "code",
   "execution_count": 64,
   "metadata": {
    "collapsed": true
   },
   "outputs": [],
   "source": []
  },
  {
   "cell_type": "code",
   "execution_count": 65,
   "metadata": {
    "collapsed": false
   },
   "outputs": [
    {
     "data": {
      "text/plain": [
       "array(['[[0.336446-7.17427e-09i 0.701515-0.713919i -0.814977-0.0889694i]',\n",
       "       '[0.701515+0.713919i 2.97761-3.97346e-09i -1.5105-1.91484i]',\n",
       "       '[-0.814977+0.0889694i -1.5105+1.91484i 1.99766-1.2208e-08i]]'], \n",
       "      dtype='<U64')"
      ]
     },
     "execution_count": 65,
     "metadata": {},
     "output_type": "execute_result"
    }
   ],
   "source": [
    "H_pre[0]"
   ]
  },
  {
   "cell_type": "code",
   "execution_count": 66,
   "metadata": {
    "collapsed": false
   },
   "outputs": [
    {
     "data": {
      "text/plain": [
       "array(['[[345.697-3.45449e-09i 72.5531+143.568i -80.2718+67.4503i]',\n",
       "       '[72.5531-143.568i 74.8506+1.856e-08i 11.165+47.4929i]',\n",
       "       '[-80.2718-67.4503i 11.165-47.4929i 31.7998-2.04228e-08i]]'], \n",
       "      dtype='<U58')"
      ]
     },
     "execution_count": 66,
     "metadata": {},
     "output_type": "execute_result"
    }
   ],
   "source": [
    "H_pre[1]"
   ]
  },
  {
   "cell_type": "code",
   "execution_count": 67,
   "metadata": {
    "collapsed": false
   },
   "outputs": [
    {
     "data": {
      "text/plain": [
       "array(['[[24.69-2.63589e-08i 27.8625-48.1578i -18.9744+10.8182i]',\n",
       "       '[27.8625+48.1578i 125.375-2.67844e-08i -42.5135-24.8014i]',\n",
       "       '[-18.9744-10.8182i -42.5135+24.8014i 19.3221-1.93578e-08i]]'], \n",
       "      dtype='<U59')"
      ]
     },
     "execution_count": 67,
     "metadata": {},
     "output_type": "execute_result"
    }
   ],
   "source": [
    "H_pre[2]"
   ]
  },
  {
   "cell_type": "code",
   "execution_count": 68,
   "metadata": {
    "collapsed": false
   },
   "outputs": [
    {
     "data": {
      "text/plain": [
       "['[[0.336446-7.17427e-09i 0.701515+0.713919i -0.814977+0.0889694i]',\n",
       " '[0.701515-0.713919i 2.97761-3.97346e-09i -1.5105+1.91484i]',\n",
       " '[-0.814977-0.0889694i -1.5105-1.91484i 1.99766-1.2208e-08i]]']"
      ]
     },
     "execution_count": 68,
     "metadata": {},
     "output_type": "execute_result"
    }
   ],
   "source": [
    "H_pre_trans[0]"
   ]
  },
  {
   "cell_type": "code",
   "execution_count": 69,
   "metadata": {
    "collapsed": false
   },
   "outputs": [
    {
     "data": {
      "text/plain": [
       "['[[345.697-3.45449e-09i 72.5531-143.568i -80.2718-67.4503i]',\n",
       " '[72.5531+143.568i 74.8506+1.856e-08i 11.165-47.4929i]',\n",
       " '[-80.2718+67.4503i 11.165+47.4929i 31.7998-2.04228e-08i]]']"
      ]
     },
     "execution_count": 69,
     "metadata": {},
     "output_type": "execute_result"
    }
   ],
   "source": [
    "H_pre_trans[1]"
   ]
  },
  {
   "cell_type": "code",
   "execution_count": 70,
   "metadata": {
    "collapsed": false
   },
   "outputs": [
    {
     "data": {
      "text/plain": [
       "['[[24.69-2.63589e-08i 27.8625+48.1578i -18.9744-10.8182i]',\n",
       " '[27.8625-48.1578i 125.375-2.67844e-08i -42.5135+24.8014i]',\n",
       " '[-18.9744+10.8182i -42.5135-24.8014i 19.3221-1.93578e-08i]]']"
      ]
     },
     "execution_count": 70,
     "metadata": {},
     "output_type": "execute_result"
    }
   ],
   "source": [
    "H_pre_trans[2]"
   ]
  },
  {
   "cell_type": "code",
   "execution_count": 71,
   "metadata": {
    "collapsed": false
   },
   "outputs": [
    {
     "data": {
      "text/plain": [
       "['[0.00533924+0.537785i -1.13001+1.13265i -0.155144-1.30127i]']"
      ]
     },
     "execution_count": 71,
     "metadata": {},
     "output_type": "execute_result"
    }
   ],
   "source": [
    "h_hat[0]"
   ]
  },
  {
   "cell_type": "code",
   "execution_count": 72,
   "metadata": {
    "collapsed": false
   },
   "outputs": [
    {
     "data": {
      "text/plain": [
       "['[-2.11928+18.4563i 7.22012+4.75366i 4.09319-3.87211i]']"
      ]
     },
     "execution_count": 72,
     "metadata": {},
     "output_type": "execute_result"
    }
   ],
   "source": [
    "h_hat[1]"
   ]
  },
  {
   "cell_type": "code",
   "execution_count": 73,
   "metadata": {
    "collapsed": false
   },
   "outputs": [
    {
     "data": {
      "text/plain": [
       "['[3.42888+3.58107i -3.11541+10.7293i -1.06603-4.25449i]']"
      ]
     },
     "execution_count": 73,
     "metadata": {},
     "output_type": "execute_result"
    }
   ],
   "source": [
    "h_hat[2]"
   ]
  },
  {
   "cell_type": "code",
   "execution_count": 74,
   "metadata": {
    "collapsed": false
   },
   "outputs": [
    {
     "ename": "AttributeError",
     "evalue": "'list' object has no attribute 'astype'",
     "output_type": "error",
     "traceback": [
      "\u001b[0;31m---------------------------------------------------------------------------\u001b[0m",
      "\u001b[0;31mAttributeError\u001b[0m                            Traceback (most recent call last)",
      "\u001b[0;32m<ipython-input-74-39e2573425e5>\u001b[0m in \u001b[0;36m<module>\u001b[0;34m()\u001b[0m\n\u001b[0;32m----> 1\u001b[0;31m \u001b[0mh_hat\u001b[0m\u001b[0;34m[\u001b[0m\u001b[0;36m2\u001b[0m\u001b[0;34m]\u001b[0m\u001b[0;34m=\u001b[0m \u001b[0mh_hat\u001b[0m\u001b[0;34m[\u001b[0m\u001b[0;36m2\u001b[0m\u001b[0;34m]\u001b[0m\u001b[0;34m.\u001b[0m\u001b[0mastype\u001b[0m\u001b[0;34m(\u001b[0m\u001b[0mnp\u001b[0m\u001b[0;34m.\u001b[0m\u001b[0mfloat\u001b[0m\u001b[0;34m)\u001b[0m\u001b[0;34m\u001b[0m\u001b[0m\n\u001b[0m",
      "\u001b[0;31mAttributeError\u001b[0m: 'list' object has no attribute 'astype'"
     ]
    }
   ],
   "source": [
    "# h_hat[2]= h_hat[2].astype(np.float)"
   ]
  },
  {
   "cell_type": "code",
   "execution_count": 76,
   "metadata": {
    "collapsed": false
   },
   "outputs": [
    {
     "ename": "TypeError",
     "evalue": "invalid data type for einsum",
     "output_type": "error",
     "traceback": [
      "\u001b[0;31m---------------------------------------------------------------------------\u001b[0m",
      "\u001b[0;31mTypeError\u001b[0m                                 Traceback (most recent call last)",
      "\u001b[0;32m<ipython-input-76-01dc55e09faa>\u001b[0m in \u001b[0;36m<module>\u001b[0;34m()\u001b[0m\n\u001b[0;32m----> 1\u001b[0;31m \u001b[0ma\u001b[0m\u001b[0;34m=\u001b[0m\u001b[0;34m(\u001b[0m\u001b[0mH_pre\u001b[0m\u001b[0;34m[\u001b[0m\u001b[0;36m0\u001b[0m\u001b[0;34m]\u001b[0m \u001b[0;34m@\u001b[0m \u001b[0mH_pre\u001b[0m\u001b[0;34m[\u001b[0m\u001b[0;36m1\u001b[0m\u001b[0;34m]\u001b[0m\u001b[0;34m)\u001b[0m\u001b[0;34m\u001b[0m\u001b[0m\n\u001b[0m",
      "\u001b[0;31mTypeError\u001b[0m: invalid data type for einsum"
     ]
    }
   ],
   "source": [
    "# a=(H_pre[0] @ H_pre[1])"
   ]
  },
  {
   "cell_type": "code",
   "execution_count": null,
   "metadata": {
    "collapsed": true
   },
   "outputs": [],
   "source": []
  },
  {
   "cell_type": "code",
   "execution_count": null,
   "metadata": {
    "collapsed": true
   },
   "outputs": [],
   "source": [
    "text_file.close()"
   ]
  },
  {
   "cell_type": "code",
   "execution_count": null,
   "metadata": {
    "collapsed": false
   },
   "outputs": [],
   "source": []
  },
  {
   "cell_type": "code",
   "execution_count": 86,
   "metadata": {
    "collapsed": false
   },
   "outputs": [
    {
     "data": {
      "text/plain": [
       "matrix([['[[0.336446-7.17427e-09i 0.701515+0.713919i -0.814977+0.0889694i]',\n",
       "         '[0.701515-0.713919i 2.97761-3.97346e-09i -1.5105+1.91484i]',\n",
       "         '[-0.814977-0.0889694i -1.5105-1.91484i 1.99766-1.2208e-08i]]']], \n",
       "       dtype='<U64')"
      ]
     },
     "execution_count": 86,
     "metadata": {},
     "output_type": "execute_result"
    }
   ],
   "source": [
    "H_pre_trans[0]"
   ]
  },
  {
   "cell_type": "code",
   "execution_count": 87,
   "metadata": {
    "collapsed": true
   },
   "outputs": [],
   "source": [
    "H_pre_trans[0]=np.matrix(H_pre_trans[0])\n",
    "H_pre_trans[1]=np.matrix(H_pre_trans[1])"
   ]
  },
  {
   "cell_type": "code",
   "execution_count": 88,
   "metadata": {
    "collapsed": false
   },
   "outputs": [
    {
     "data": {
      "text/plain": [
       "matrix([['[[0.336446-7.17427e-09i 0.701515+0.713919i -0.814977+0.0889694i]',\n",
       "         '[0.701515-0.713919i 2.97761-3.97346e-09i -1.5105+1.91484i]',\n",
       "         '[-0.814977-0.0889694i -1.5105-1.91484i 1.99766-1.2208e-08i]]']], \n",
       "       dtype='<U64')"
      ]
     },
     "execution_count": 88,
     "metadata": {},
     "output_type": "execute_result"
    }
   ],
   "source": [
    "H_pre_trans[0]"
   ]
  },
  {
   "cell_type": "code",
   "execution_count": 89,
   "metadata": {
    "collapsed": false
   },
   "outputs": [
    {
     "data": {
      "text/plain": [
       "matrix([['[[345.697-3.45449e-09i 72.5531-143.568i -80.2718-67.4503i]',\n",
       "         '[72.5531+143.568i 74.8506+1.856e-08i 11.165-47.4929i]',\n",
       "         '[-80.2718+67.4503i 11.165+47.4929i 31.7998-2.04228e-08i]]']], \n",
       "       dtype='<U58')"
      ]
     },
     "execution_count": 89,
     "metadata": {},
     "output_type": "execute_result"
    }
   ],
   "source": [
    "H_pre_trans[1]"
   ]
  },
  {
   "cell_type": "code",
   "execution_count": 91,
   "metadata": {
    "collapsed": false
   },
   "outputs": [
    {
     "ename": "NameError",
     "evalue": "name 'matmult' is not defined",
     "output_type": "error",
     "traceback": [
      "\u001b[0;31m---------------------------------------------------------------------------\u001b[0m",
      "\u001b[0;31mNameError\u001b[0m                                 Traceback (most recent call last)",
      "\u001b[0;32m<ipython-input-91-7a2f54553e71>\u001b[0m in \u001b[0;36m<module>\u001b[0;34m()\u001b[0m\n\u001b[0;32m----> 1\u001b[0;31m \u001b[0ma\u001b[0m \u001b[0;34m=\u001b[0m \u001b[0mmatmult\u001b[0m\u001b[0;34m(\u001b[0m\u001b[0mH_pre_trans\u001b[0m\u001b[0;34m[\u001b[0m\u001b[0;36m1\u001b[0m\u001b[0;34m]\u001b[0m \u001b[0;34m,\u001b[0m \u001b[0mH_pre_trans\u001b[0m\u001b[0;34m[\u001b[0m\u001b[0;36m1\u001b[0m\u001b[0;34m]\u001b[0m\u001b[0;34m)\u001b[0m\u001b[0;34m\u001b[0m\u001b[0m\n\u001b[0m",
      "\u001b[0;31mNameError\u001b[0m: name 'matmult' is not defined"
     ]
    }
   ],
   "source": [
    "a = matmult(H_pre_trans[1] , H_pre_trans[1])"
   ]
  },
  {
   "cell_type": "code",
   "execution_count": null,
   "metadata": {
    "collapsed": true
   },
   "outputs": [],
   "source": []
  }
 ],
 "metadata": {
  "anaconda-cloud": {},
  "kernelspec": {
   "display_name": "Python [conda root]",
   "language": "python",
   "name": "conda-root-py"
  },
  "language_info": {
   "codemirror_mode": {
    "name": "ipython",
    "version": 3
   },
   "file_extension": ".py",
   "mimetype": "text/x-python",
   "name": "python",
   "nbconvert_exporter": "python",
   "pygments_lexer": "ipython3",
   "version": "3.5.2"
  }
 },
 "nbformat": 4,
 "nbformat_minor": 1
}
